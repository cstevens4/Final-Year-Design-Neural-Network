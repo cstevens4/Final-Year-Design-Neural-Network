{
 "cells": [
  {
   "cell_type": "code",
   "execution_count": 3,
   "metadata": {},
   "outputs": [],
   "source": [
    "import tensorflow as tf\n",
    "import pandas as pd\n",
    "import numpy as np\n",
    "\n",
    "from tensorflow import keras\n",
    "from keras.datasets import mnist\n",
    "from keras.models import Sequential\n",
    "from keras.layers import Dense\n",
    "from keras.utils import np_utils\n",
    "\n",
    "from scikeras.wrappers import KerasClassifier, KerasRegressor\n",
    "from sklearn.compose import ColumnTransformer\n",
    "from sklearn.preprocessing import OneHotEncoder\n",
    "from sklearn.model_selection import GridSearchCV\n",
    "from sklearn.preprocessing import LabelEncoder\n",
    "from sklearn.preprocessing import StandardScaler"
   ]
  },
  {
   "cell_type": "code",
   "execution_count": 4,
   "metadata": {},
   "outputs": [],
   "source": [
    "#load dataset\n",
    "data = mnist.load_data()\n",
    "(X_train, y_train), (X_test, y_test) = data\n",
    "\n",
    "#reshape\n",
    "X_train = X_train.reshape((X_train.shape[0], 28*28)).astype('float32')\n",
    "X_test = X_test.reshape((X_test.shape[0], 28*28)).astype('float32')\n",
    "\n",
    "#make values between 0 and 1\n",
    "X_train /= 255\n",
    "X_test /= 255\n",
    "\n",
    "#one hot encoding\n",
    "n_classes = 10\n",
    "y_train = np_utils.to_categorical(y_train, n_classes)\n",
    "y_test = np_utils.to_categorical(y_test, n_classes)"
   ]
  },
  {
   "cell_type": "code",
   "execution_count": 5,
   "metadata": {},
   "outputs": [],
   "source": [
    "def get_model(n_features_in, X_shape, n_classes, unit):\n",
    "    # creating the layers of the NN\n",
    "    model = keras.models.Sequential()\n",
    "    model.add(keras.layers.Dense(n_features_in, input_shape = X_shape[1:]))\n",
    "    model.add(keras.layers.Activation(\"sigmoid\"))\n",
    "    model.add(keras.layers.Dense(unit))\n",
    "    model.add(keras.layers.Activation(\"sigmoid\"))\n",
    "    model.add(keras.layers.Dense(n_classes))\n",
    "    model.add(keras.layers.Activation(\"softmax\"))\n",
    "    model.compile(loss = 'categorical_crossentropy', optimizer='adam', metrics=['accuracy'])\n",
    "    \n",
    "    return model"
   ]
  },
  {
   "cell_type": "code",
   "execution_count": null,
   "metadata": {},
   "outputs": [],
   "source": [
    "model = KerasClassifier(\n",
    "    model = get_model, \n",
    "    n_features_in = 784, \n",
    "    X_shape = X_train.shape, \n",
    "    n_classes = 10, \n",
    "    unit = 30 \n",
    ")\n",
    "\n",
    "params=dict(epochs = [10, 20, 30])\n",
    "grid = GridSearchCV(estimator=model, param_grid=params, n_jobs=-1, cv=3)\n",
    "\n",
    "grid_result = grid.fit(X_train, y_train)\n"
   ]
  },
  {
   "cell_type": "code",
   "execution_count": null,
   "metadata": {},
   "outputs": [],
   "source": []
  }
 ],
 "metadata": {
  "kernelspec": {
   "display_name": "Python 3",
   "language": "python",
   "name": "python3"
  },
  "language_info": {
   "codemirror_mode": {
    "name": "ipython",
    "version": 3
   },
   "file_extension": ".py",
   "mimetype": "text/x-python",
   "name": "python",
   "nbconvert_exporter": "python",
   "pygments_lexer": "ipython3",
   "version": "3.7.6"
  }
 },
 "nbformat": 4,
 "nbformat_minor": 2
}
