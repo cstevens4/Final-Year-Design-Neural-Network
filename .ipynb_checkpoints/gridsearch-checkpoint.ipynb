{
 "cells": [
  {
   "cell_type": "code",
   "execution_count": 7,
   "metadata": {},
   "outputs": [],
   "source": [
    "import tensorflow as tf\n",
    "import pandas as pd\n",
    "import numpy as np\n",
    "\n",
    "from tensorflow import keras\n",
    "from keras.datasets import mnist\n",
    "from keras.models import Sequential\n",
    "from keras.layers import Dense\n",
    "\n",
    "from sklearn.compose import ColumnTransformer\n",
    "from sklearn.preprocessing import OneHotEncoder\n",
    "from keras.wrappers.scikit_learn import KerasClassifier\n",
    "from sklearn.model_selection import GridSearchCV\n",
    "from sklearn.preprocessing import LabelEncoder\n",
    "from sklearn.preprocessing import StandardScaler"
   ]
  },
  {
   "cell_type": "code",
   "execution_count": 12,
   "metadata": {},
   "outputs": [
    {
     "data": {
      "text/plain": [
       "array([5, 0, 4, ..., 5, 6, 8], dtype=uint8)"
      ]
     },
     "execution_count": 12,
     "metadata": {},
     "output_type": "execute_result"
    }
   ],
   "source": [
    "#load dataset\n",
    "data = mnist.load_data()\n",
    "(X_train, y_train), (X_test, y_test) = data\n",
    "\n",
    "#reshape\n",
    "X_train = X_train.reshape((X_train.shape[0], 28*28)).astype('float32')\n",
    "X_test = X_test.reshape((X_test.shape[0], 28*28)).astype('float32')\n",
    "\n",
    "#make values between 0 and 1\n",
    "X_train = X_train / 255\n",
    "X_test = X_test / 255\n",
    "\n",
    "y_train\n"
   ]
  },
  {
   "cell_type": "code",
   "execution_count": 9,
   "metadata": {},
   "outputs": [
    {
     "ename": "RuntimeError",
     "evalue": "You must compile your model before training/testing. Use `model.compile(optimizer, loss)`.",
     "output_type": "error",
     "traceback": [
      "\u001b[1;31m---------------------------------------------------------------------------\u001b[0m",
      "\u001b[1;31mRuntimeError\u001b[0m                              Traceback (most recent call last)",
      "\u001b[1;32m<ipython-input-9-138b607f3746>\u001b[0m in \u001b[0;36m<module>\u001b[1;34m\u001b[0m\n\u001b[0;32m      4\u001b[0m \u001b[0mmodel\u001b[0m\u001b[1;33m.\u001b[0m\u001b[0madd\u001b[0m\u001b[1;33m(\u001b[0m\u001b[0mDense\u001b[0m\u001b[1;33m(\u001b[0m\u001b[1;36m10\u001b[0m\u001b[1;33m,\u001b[0m \u001b[0mactivation\u001b[0m \u001b[1;33m=\u001b[0m \u001b[1;34m'softmax'\u001b[0m\u001b[1;33m)\u001b[0m\u001b[1;33m)\u001b[0m\u001b[1;33m\u001b[0m\u001b[1;33m\u001b[0m\u001b[0m\n\u001b[0;32m      5\u001b[0m \u001b[1;33m\u001b[0m\u001b[0m\n\u001b[1;32m----> 6\u001b[1;33m \u001b[0mmodel\u001b[0m\u001b[1;33m.\u001b[0m\u001b[0mfit\u001b[0m\u001b[1;33m(\u001b[0m\u001b[0mX_train\u001b[0m\u001b[1;33m,\u001b[0m \u001b[0my_train\u001b[0m\u001b[1;33m,\u001b[0m \u001b[0mepochs\u001b[0m \u001b[1;33m=\u001b[0m \u001b[1;36m10\u001b[0m\u001b[1;33m,\u001b[0m \u001b[0mbatch_size\u001b[0m \u001b[1;33m=\u001b[0m \u001b[1;36m100\u001b[0m\u001b[1;33m)\u001b[0m\u001b[1;33m\u001b[0m\u001b[1;33m\u001b[0m\u001b[0m\n\u001b[0m\u001b[0;32m      7\u001b[0m \u001b[1;33m\u001b[0m\u001b[0m\n\u001b[0;32m      8\u001b[0m \u001b[0mscores\u001b[0m \u001b[1;33m=\u001b[0m \u001b[0mmodel\u001b[0m\u001b[1;33m.\u001b[0m\u001b[0mevaluate\u001b[0m\u001b[1;33m(\u001b[0m\u001b[0mX_test\u001b[0m\u001b[1;33m,\u001b[0m \u001b[0my_test\u001b[0m\u001b[1;33m)\u001b[0m\u001b[1;33m\u001b[0m\u001b[1;33m\u001b[0m\u001b[0m\n",
      "\u001b[1;32m~\\Anaconda3\\lib\\site-packages\\keras\\utils\\traceback_utils.py\u001b[0m in \u001b[0;36merror_handler\u001b[1;34m(*args, **kwargs)\u001b[0m\n\u001b[0;32m     65\u001b[0m     \u001b[1;32mexcept\u001b[0m \u001b[0mException\u001b[0m \u001b[1;32mas\u001b[0m \u001b[0me\u001b[0m\u001b[1;33m:\u001b[0m  \u001b[1;31m# pylint: disable=broad-except\u001b[0m\u001b[1;33m\u001b[0m\u001b[1;33m\u001b[0m\u001b[0m\n\u001b[0;32m     66\u001b[0m       \u001b[0mfiltered_tb\u001b[0m \u001b[1;33m=\u001b[0m \u001b[0m_process_traceback_frames\u001b[0m\u001b[1;33m(\u001b[0m\u001b[0me\u001b[0m\u001b[1;33m.\u001b[0m\u001b[0m__traceback__\u001b[0m\u001b[1;33m)\u001b[0m\u001b[1;33m\u001b[0m\u001b[1;33m\u001b[0m\u001b[0m\n\u001b[1;32m---> 67\u001b[1;33m       \u001b[1;32mraise\u001b[0m \u001b[0me\u001b[0m\u001b[1;33m.\u001b[0m\u001b[0mwith_traceback\u001b[0m\u001b[1;33m(\u001b[0m\u001b[0mfiltered_tb\u001b[0m\u001b[1;33m)\u001b[0m \u001b[1;32mfrom\u001b[0m \u001b[1;32mNone\u001b[0m\u001b[1;33m\u001b[0m\u001b[1;33m\u001b[0m\u001b[0m\n\u001b[0m\u001b[0;32m     68\u001b[0m     \u001b[1;32mfinally\u001b[0m\u001b[1;33m:\u001b[0m\u001b[1;33m\u001b[0m\u001b[1;33m\u001b[0m\u001b[0m\n\u001b[0;32m     69\u001b[0m       \u001b[1;32mdel\u001b[0m \u001b[0mfiltered_tb\u001b[0m\u001b[1;33m\u001b[0m\u001b[1;33m\u001b[0m\u001b[0m\n",
      "\u001b[1;32m~\\Anaconda3\\lib\\site-packages\\keras\\engine\\training.py\u001b[0m in \u001b[0;36m_assert_compile_was_called\u001b[1;34m(self)\u001b[0m\n\u001b[0;32m   3158\u001b[0m     \u001b[1;31m# (i.e. whether the model is built and its inputs/outputs are set).\u001b[0m\u001b[1;33m\u001b[0m\u001b[1;33m\u001b[0m\u001b[1;33m\u001b[0m\u001b[0m\n\u001b[0;32m   3159\u001b[0m     \u001b[1;32mif\u001b[0m \u001b[1;32mnot\u001b[0m \u001b[0mself\u001b[0m\u001b[1;33m.\u001b[0m\u001b[0m_is_compiled\u001b[0m\u001b[1;33m:\u001b[0m\u001b[1;33m\u001b[0m\u001b[1;33m\u001b[0m\u001b[0m\n\u001b[1;32m-> 3160\u001b[1;33m       raise RuntimeError('You must compile your model before '\n\u001b[0m\u001b[0;32m   3161\u001b[0m                          \u001b[1;34m'training/testing. '\u001b[0m\u001b[1;33m\u001b[0m\u001b[1;33m\u001b[0m\u001b[0m\n\u001b[0;32m   3162\u001b[0m                          'Use `model.compile(optimizer, loss)`.')\n",
      "\u001b[1;31mRuntimeError\u001b[0m: You must compile your model before training/testing. Use `model.compile(optimizer, loss)`."
     ]
    }
   ],
   "source": [
    "model = Sequential()\n",
    "model.add(Dense(32, input_dim = 28 * 28, activation= 'sigmoid'))\n",
    "model.add(Dense(64, activation = 'sigmoid'))\n",
    "model.add(Dense(10, activation = 'softmax'))\n",
    "\n",
    "model.fit(X_train, y_train, epochs = 10, batch_size = 100)\n",
    "\n",
    "scores = model.evaluate(X_test, y_test)\n",
    "print(\"Accuracy: \", scores[1]*100)"
   ]
  },
  {
   "cell_type": "code",
   "execution_count": 13,
   "metadata": {},
   "outputs": [],
   "source": [
    "def build_clf(unit):\n",
    "  # creating the layers of the NN\n",
    "  ann = tf.keras.models.Sequential()\n",
    "  ann.add(tf.keras.layers.Dense(units=unit, activation='sigmoid'))\n",
    "  ann.add(tf.keras.layers.Dense(units=unit, activation='sigmoid'))\n",
    "  ann.add(tf.keras.layers.Dense(units=1, activation='softmax'))\n",
    "  ann.compile(optimizer = 'adam', loss = 'binary_crossentropy', metrics = ['accuracy'])\n",
    "  return ann"
   ]
  },
  {
   "cell_type": "code",
   "execution_count": 14,
   "metadata": {},
   "outputs": [
    {
     "name": "stderr",
     "output_type": "stream",
     "text": [
      "C:\\Users\\lees19\\AppData\\Roaming\\Python\\Python37\\site-packages\\ipykernel_launcher.py:1: DeprecationWarning: KerasClassifier is deprecated, use Sci-Keras (https://github.com/adriangb/scikeras) instead. See https://www.adriangb.com/scikeras/stable/migration.html for help migrating.\n",
      "  \"\"\"Entry point for launching an IPython kernel.\n"
     ]
    },
    {
     "name": "stdout",
     "output_type": "stream",
     "text": [
      "540/540 [==============================] - 1s 1ms/step - loss: -2.8840 - accuracy: 0.1124\n",
      "60/60 [==============================] - 0s 1ms/step - loss: -6.2438 - accuracy: 0.1118\n",
      "540/540 [==============================] - 1s 2ms/step - loss: -6.8356 - accuracy: 0.1123\n",
      "60/60 [==============================] - 0s 1ms/step - loss: -13.1140 - accuracy: 0.1133\n",
      "540/540 [==============================] - 1s 2ms/step - loss: -8.2791 - accuracy: 0.1119\n",
      "60/60 [==============================] - 0s 1ms/step - loss: -15.2911 - accuracy: 0.1167\n",
      "540/540 [==============================] - 1s 1ms/step - loss: -5.5411 - accuracy: 0.1122\n",
      "60/60 [==============================] - 0s 1ms/step - loss: -11.6393 - accuracy: 0.1135\n",
      "540/540 [==============================] - 1s 2ms/step - loss: -3.1277 - accuracy: 0.1121\n",
      "60/60 [==============================] - 0s 1ms/step - loss: -8.5839 - accuracy: 0.1152\n",
      "540/540 [==============================] - 1s 1ms/step - loss: -5.2397 - accuracy: 0.1121\n",
      "60/60 [==============================] - 0s 1ms/step - loss: -11.4918 - accuracy: 0.1150\n",
      "540/540 [==============================] - 1s 1ms/step - loss: 1.7256 - accuracy: 0.1121\n",
      "60/60 [==============================] - 0s 1ms/step - loss: -0.9892 - accuracy: 0.1143\n",
      "540/540 [==============================] - 1s 2ms/step - loss: -3.5486 - accuracy: 0.1124\n",
      "60/60 [==============================] - 0s 1ms/step - loss: -7.9755 - accuracy: 0.1118\n",
      "540/540 [==============================] - 1s 1ms/step - loss: 0.1294 - accuracy: 0.1130\n",
      "60/60 [==============================] - 0s 1ms/step - loss: -4.0739 - accuracy: 0.1070\n",
      "540/540 [==============================] - 1s 2ms/step - loss: -6.6345 - accuracy: 0.1132\n",
      "60/60 [==============================] - 0s 1ms/step - loss: -11.8859 - accuracy: 0.1050\n",
      "2700/2700 [==============================] - 4s 1ms/step - loss: -30.8946 - accuracy: 0.1124\n",
      "300/300 [==============================] - 1s 1ms/step - loss: -55.8514 - accuracy: 0.1118\n",
      "2700/2700 [==============================] - 4s 1ms/step - loss: -30.5251 - accuracy: 0.1123\n",
      "300/300 [==============================] - 0s 1ms/step - loss: -59.3707 - accuracy: 0.1133\n",
      "2700/2700 [==============================] - 4s 1ms/step - loss: -20.4522 - accuracy: 0.1119\n",
      "300/300 [==============================] - 0s 1ms/step - loss: -45.3569 - accuracy: 0.1167\n",
      "2700/2700 [==============================] - 4s 1ms/step - loss: -37.0029 - accuracy: 0.1122\n",
      "300/300 [==============================] - 0s 1ms/step - loss: -66.1964 - accuracy: 0.1135\n",
      "2700/2700 [==============================] - 4s 1ms/step - loss: -30.4515 - accuracy: 0.1121\n",
      "300/300 [==============================] - 0s 987us/step - loss: -54.5658 - accuracy: 0.1152\n",
      "2700/2700 [==============================] - 4s 1ms/step - loss: -26.7196 - accuracy: 0.1121\n",
      "300/300 [==============================] - 0s 1ms/step - loss: -59.2991 - accuracy: 0.1150\n",
      "2700/2700 [==============================] - 4s 1ms/step - loss: -24.5862 - accuracy: 0.1121\n",
      "300/300 [==============================] - 0s 1ms/step - loss: -54.5037 - accuracy: 0.1143\n",
      "2700/2700 [==============================] - 4s 1ms/step - loss: -23.5925 - accuracy: 0.1124\n",
      "300/300 [==============================] - 0s 1ms/step - loss: -55.5140 - accuracy: 0.1118\n",
      "2700/2700 [==============================] - 4s 1ms/step - loss: -22.6465 - accuracy: 0.1130\n",
      "300/300 [==============================] - 0s 998us/step - loss: -48.0377 - accuracy: 0.1070\n",
      "2700/2700 [==============================] - 4s 1ms/step - loss: -32.5534 - accuracy: 0.1132\n",
      "300/300 [==============================] - 0s 1ms/step - loss: -63.9294 - accuracy: 0.1050\n",
      "600/600 [==============================] - 1s 2ms/step - loss: -13.2888 - accuracy: 0.1124\n"
     ]
    }
   ],
   "source": [
    "model=KerasClassifier(build_fn=build_clf)\n",
    "\n",
    "params={'batch_size':[100, 20], \n",
    "        'nb_epoch':[200],\n",
    "        'unit':[5],\n",
    "           \n",
    "        }\n",
    "gs=GridSearchCV(estimator=model, param_grid=params, cv=10)\n",
    "# now fit the dataset to the GridSearchCV object. \n",
    "gs = gs.fit(X_train, y_train)"
   ]
  },
  {
   "cell_type": "code",
   "execution_count": null,
   "metadata": {},
   "outputs": [],
   "source": []
  }
 ],
 "metadata": {
  "kernelspec": {
   "display_name": "Python 3",
   "language": "python",
   "name": "python3"
  },
  "language_info": {
   "codemirror_mode": {
    "name": "ipython",
    "version": 3
   },
   "file_extension": ".py",
   "mimetype": "text/x-python",
   "name": "python",
   "nbconvert_exporter": "python",
   "pygments_lexer": "ipython3",
   "version": "3.7.6"
  }
 },
 "nbformat": 4,
 "nbformat_minor": 2
}
